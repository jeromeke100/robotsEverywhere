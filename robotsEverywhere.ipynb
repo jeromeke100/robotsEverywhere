{
  "nbformat": 4,
  "nbformat_minor": 0,
  "metadata": {
    "colab": {
      "provenance": []
    },
    "kernelspec": {
      "name": "python3",
      "display_name": "Python 3"
    },
    "language_info": {
      "name": "python"
    }
  },
  "cells": [
    {
      "cell_type": "code",
      "execution_count": 1,
      "metadata": {
        "id": "x4gEgQPEwJyA"
      },
      "outputs": [],
      "source": [
        "import pandas as pd\n",
        "import csv\n",
        "import matplotlib.pyplot as plt\n",
        "import numpy as np\n",
        "from PIL import Image\n",
        "from IPython.display import display\n",
        "import heapq\n",
        "import math\n",
        "import skimage"
      ]
    },
    {
      "cell_type": "code",
      "source": [
        "image_array = np.genfromtxt('data.csv', delimiter=',',  dtype=int).astype(np.uint8)\n",
        "star_pattern = np.array([\n",
        "    [0, 0, 0, 1, 0, 0, 0],\n",
        "    [0, 0, 1, 1, 1, 0, 0],\n",
        "    [0, 1, 1, 1, 1, 1, 0],\n",
        "    [1, 1, 1, 1, 1, 1, 1],\n",
        "    [0, 1, 1, 1, 1, 1, 0],\n",
        "    [0, 0, 1, 1, 1, 0, 0],\n",
        "    [0, 0, 0, 1, 0, 0, 0]\n",
        "])\n",
        "\n",
        "erosion_array = skimage.morphology.erosion(image_array, footprint = star_pattern)"
      ],
      "metadata": {
        "id": "53gSrHbIwa6w"
      },
      "execution_count": 7,
      "outputs": []
    },
    {
      "cell_type": "code",
      "source": [
        "def astar(matrix, start, goal, pathConversionRate = 1):\n",
        "    rows, cols = len(matrix), len(matrix[0])\n",
        "    directions = [(0, 1), (0, -1), (1, 0), (-1, 0), (1, 1), (-1, -1), (1, -1), (-1, 1)]\n",
        "\n",
        "    # Define a helper function to check if a point is within the grid and is not an obstacle\n",
        "    def is_valid(x, y):\n",
        "        return 0 <= x < rows and 0 <= y < cols and matrix[x][y] != 0\n",
        "\n",
        "    # Initialize data structures for the A* algorithm\n",
        "    open_list = [(0, start)]\n",
        "    came_from = {}\n",
        "    g_score = {point: float('inf') for point in np.ndindex(matrix.shape)}\n",
        "    g_score[start] = 0\n",
        "\n",
        "    # Perform A* algorithm\n",
        "    while open_list:\n",
        "        _, current = heapq.heappop(open_list)\n",
        "\n",
        "        if current == goal:\n",
        "            break\n",
        "\n",
        "        for dx, dy in directions:\n",
        "            neighbor = (current[0] + dx, current[1] + dy)\n",
        "\n",
        "            # Calculate the movement cost\n",
        "            if dx != 0 and dy != 0:\n",
        "                # Diagonal movement\n",
        "                tentative_g_score = g_score[current] + math.sqrt(2)\n",
        "            else:\n",
        "                # Horizontal or vertical movement\n",
        "                tentative_g_score = g_score[current] + 1\n",
        "\n",
        "            if is_valid(*neighbor) and tentative_g_score < g_score[neighbor]:\n",
        "                came_from[neighbor] = current\n",
        "                g_score[neighbor] = tentative_g_score\n",
        "                heapq.heappush(open_list, (tentative_g_score + heuristic(neighbor, goal), neighbor))\n",
        "\n",
        "    # Calculate length of the path\n",
        "    path_length = g_score[goal] * pathConversionRate\n",
        "\n",
        "    # Reconstruct the path\n",
        "    path = []\n",
        "    current = goal\n",
        "    while current != start:\n",
        "        path.append(current)\n",
        "        current = came_from[current]\n",
        "    path.append(start)\n",
        "    path.reverse()\n",
        "\n",
        "    return path, path_length #return coordinates of path\n",
        "\n",
        "# Heuristic function (Euclidean distance)\n",
        "def heuristic(point, goal):\n",
        "    return math.sqrt((point[0] - goal[0])**2 + (point[1] - goal[1])**2)"
      ],
      "metadata": {
        "id": "fz75YUTKwUGX"
      },
      "execution_count": 4,
      "outputs": []
    },
    {
      "cell_type": "code",
      "source": [
        "def shortestPath(matrix, start, goals, pathConversionRate = 1/15, addedStop = None):\n",
        "  shortest_path = 0\n",
        "  shortest_length = 10**20\n",
        "  for starting in start:\n",
        "    for target in goals:\n",
        "      if addedStop == None :\n",
        "        path,length = astar(matrix, starting, target, pathConversionRate)\n",
        "        if (length < shortest_length):\n",
        "          shortest_path = path\n",
        "          shortest_length = length\n",
        "      else :\n",
        "        for coordinates in addedStop:\n",
        "          path1, length1 = astar(matrix, starting , coordinates, pathConversionRate)\n",
        "          path2, length2 = astar(matrix, coordinates, target, pathConversionRate)\n",
        "          path = path1 + path2\n",
        "          length = length1 + length2\n",
        "          if (length < shortest_length):\n",
        "            shortest_path = path\n",
        "            shortest_length = length\n",
        "  return shortest_path, shortest_length\n",
        "\n",
        "\n",
        "def navigate(matrix, start, goal, addedStop = None):\n",
        "  # if start building is not equal to goal building ---> navigate to building\n",
        "  elevatorDist = 0\n",
        "  bestPath = 0\n",
        "  travelTime = 0       # travel time in s\n",
        "  bestTime = 10**20\n",
        "  walkingSpeed = 1.5   # m/s\n",
        "  startingPoint = start\n",
        "\n",
        "  if (start[1] != goal[1]):           # if you are not on the correct floor, navigate to an elevator or stair\n",
        "    bestElevator = 0\n",
        "    if start[2] == \"North\":\n",
        "      elevatorDist = northDistance\n",
        "    if start[2] == \"West\":\n",
        "      elevatorDist = westDistance\n",
        "    if start[2] == \"South\":\n",
        "      elevatorDist = southDistance\n",
        "    for i in range(len(elevatorDist)):\n",
        "      path, pathLength = shortestPath(matrix, [elevator[i]], goal[3], addedStop = addedStop)\n",
        "      currentLength = elevatorDist[i] + pathLength\n",
        "      elevatorTime = 0\n",
        "      travelTime = currentLength / walkingSpeed + elevatorTime\n",
        "      if (travelTime < bestTime):\n",
        "        bestTime = travelTime\n",
        "        bestElevator = i\n",
        "        bestPath = path\n",
        "\n",
        "    if (bestElevator == 0):\n",
        "      print(\"Go to floor\",  goal[1], \"using south elevator \" )\n",
        "    if (bestElevator == 1):\n",
        "      print(\"Go to floor\",  goal[1], \"using the north elevator \")\n",
        "    # navigate to elevator\n",
        "\n",
        "    # add time for using elevator\n",
        "\n",
        "    # add time for walking to goal\n",
        "  else:\n",
        "    bestPath, pathLength = shortestPath(matrix, start[3], goal[3], addedStop = addedStop)\n",
        "    bestTime = pathLength/ walkingSpeed\n",
        "\n",
        "\n",
        "\n",
        "  # if start position is not equal to goal position --> navigate to location\n",
        "  #shortestPath(matrix, start, goal, addedStop = addedStop)\n",
        "  return bestPath, travelTime"
      ],
      "metadata": {
        "id": "Iifd1TqZwaOJ"
      },
      "execution_count": 5,
      "outputs": []
    },
    {
      "cell_type": "code",
      "source": [
        "southDistance = (20, 100)\n",
        "westDistance = (65, 55)\n",
        "northDistance = (90 , 15)\n",
        "entranceToElevator = [southDistance, westDistance, northDistance]   # entrance direction, distance to south elevator [m] and north elevator [m]\n",
        "toilet_coor = [ (745,150) , (1860, 155) ]        # array with coordinates of toilets (I think)\n",
        "elevator = [ (1875, 190) , (730,110)]            # south elevator, north elevator\n",
        "randomRoom = [(1573, 70)]"
      ],
      "metadata": {
        "id": "kJ32GqTfw-5U"
      },
      "execution_count": 6,
      "outputs": []
    },
    {
      "cell_type": "code",
      "source": [
        "testStart = [\"Atlas\", 0 , \"West\", (0,0)]\n",
        "testStart2 = [\"Atlas\", 8 , 294 , elevator ]\n",
        "testGoal   = [\"Atlas\", 8 , 113 , randomRoom] #format : [\"Building\", floor, roomnumber, index]\n",
        "\n",
        "path, time = navigate(erosion_array , testStart ,testGoal, addedStop= toilet_coor)\n",
        "path_display = np.copy(image_array)\n",
        "for coordinates in path:\n",
        "  path_display[coordinates] = 120\n",
        "\n",
        "path_image = Image.fromarray(path_display, mode='L')\n",
        "#path_image = path_image.resize((int(fig_width*0.02),int(fig_height*0.02)))\n",
        "print(\"Path time is \", time ,\"seconds\")\n",
        "display(path_image)"
      ],
      "metadata": {
        "colab": {
          "base_uri": "https://localhost:8080/",
          "height": 1000
        },
        "id": "UUdYtq3ydXIt",
        "outputId": "2c731605-ea79-4daa-d849-ca202bd9dc0d"
      },
      "execution_count": 14,
      "outputs": [
        {
          "output_type": "stream",
          "name": "stdout",
          "text": [
            "Go to floor 8 using south elevator \n",
            "Path time is  77.87068461313878 seconds\n"
          ]
        },
        {
          "output_type": "display_data",
          "data": {
            "text/plain": [
              "<PIL.Image.Image image mode=L size=304x2600>"
            ],
            "image/png": "[encoded data removed]"
          },
          "metadata": {}
        }
      ]
    },
    {
      "cell_type": "code",
      "source": [
        "image = Image.fromarray(image_array, mode='L')\n",
        "display(image)"
      ],
      "metadata": {
        "colab": {
          "base_uri": "https://localhost:8080/",
          "height": 1000
        },
        "id": "cNBEgGbIxGEv",
        "outputId": "5be429d6-ca39-4f61-a363-bbce325f9f02"
      },
      "execution_count": 12,
      "outputs": [
        {
          "output_type": "display_data",
          "data": {
            "text/plain": [
              "<PIL.Image.Image image mode=L size=304x2600>"
            ],
            "image/png": "[encoded data removed]"
          },
          "metadata": {}
        }
      ]
    }
  ]
}